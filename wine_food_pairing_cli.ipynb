{
 "cells": [
  {
   "metadata": {},
   "cell_type": "markdown",
   "source": [
    "# Wine and Food Pairing CLI Application\n",
    "\n",
    "This notebook develops a command-line interface for wine and food pairing using the Textual library for rich terminal interfaces."
   ],
   "id": "4cdeaf47db73d2d3"
  },
  {
   "metadata": {},
   "cell_type": "code",
   "outputs": [],
   "execution_count": null,
   "source": [
    "# Wine and Food Pairing CLI Application\n",
    "# This notebook creates a command-line interface for wine and food pairing using Textual\n",
    "\n",
    "# First, let's install the required packages\n",
    "!pip install textual rich"
   ],
   "id": "ff04e9b418d75ae2"
  },
  {
   "metadata": {},
   "cell_type": "code",
   "outputs": [],
   "execution_count": null,
   "source": [
    "from textual.app import App, ComposeResult\n",
    "from textual.containers import Container, Horizontal, Vertical\n",
    "from textual.widgets import Header, Footer, Input, Button, Static, Label, Select\n",
    "from textual.reactive import reactive\n",
    "from rich.text import Text\n",
    "from rich.markdown import Markdown\n",
    "import random\n",
    "from typing import Dict, List, Tuple\n",
    "\n",
    "# Wine and food pairing database\n",
    "# Structure: { food_category: [(wine_type, explanation), ...] }\n",
    "WINE_PAIRINGS = {\n",
    "    \"beef\": [\n",
    "        (\"Cabernet Sauvignon\", \"The robust tannins in Cabernet Sauvignon complement the rich proteins in beef, creating a balanced taste experience. The wine's black fruit flavors enhance the savory aspects of the meat.\"),\n",
    "        (\"Malbec\", \"Malbec's plush fruit-forward profile and moderate tannins pair beautifully with the umami flavors in beef, especially with leaner cuts.\"),\n",
    "        (\"Syrah/Shiraz\", \"The peppery notes and full body of Syrah stand up to the strong flavors of beef, particularly with spiced or grilled preparations.\")\n",
    "    ],\n",
    "    \"chicken\": [\n",
    "        (\"Chardonnay\", \"The buttery notes in Chardonnay complement the mild flavors of chicken, especially with creamy sauces. The wine's acidity cuts through richness while enhancing the meat's subtle flavors.\"),\n",
    "        (\"Pinot Noir\", \"For darker chicken meat or roasted preparations, Pinot Noir offers bright acidity and red fruit flavors that complement without overwhelming.\"),\n",
    "        (\"Sauvignon Blanc\", \"With lighter chicken dishes, particularly those with herbs or citrus, Sauvignon Blanc's crisp profile and herbal notes create a refreshing contrast.\")\n",
    "    ],\n",
    "    \"fish\": [\n",
    "        (\"Pinot Grigio\", \"The light, crisp character of Pinot Grigio accentuates the delicate flavors of white fish while its acidity acts as a palate-cleanser.\"),\n",
    "        (\"Sauvignon Blanc\", \"The herbaceous qualities and high acidity of Sauvignon Blanc complement the natural oils in fish while adding brightness to the pairing.\"),\n",
    "        (\"Champagne\", \"The effervescence of Champagne cuts through the richness of fattier fish while its complexity enhances more luxurious seafood preparations.\")\n",
    "    ],\n",
    "    \"shellfish\": [\n",
    "        (\"Chablis\", \"The flinty minerality and lean profile of Chablis mirrors the briny quality of shellfish, creating a harmonious flavor experience.\"),\n",
    "        (\"Muscadet\", \"Crisp, dry and with subtle salinity, Muscadet is almost tailor-made for oysters and other shellfish, enhancing their natural flavors.\"),\n",
    "        (\"Albariño\", \"The citrus notes and saline qualities of Albariño make it a natural companion to shellfish, particularly from coastal regions.\")\n",
    "    ],\n",
    "    \"pork\": [\n",
    "        (\"Riesling\", \"The sweetness in Riesling balances beautifully with the natural sweetness of pork, while its acidity cuts through fat. Particularly good with glazed or fruit-accompanied pork.\"),\n",
    "        (\"Gewürztraminer\", \"The aromatic complexity and slight sweetness of Gewürztraminer complement pork's flavor, especially with preparations featuring warm spices.\"),\n",
    "        (\"Pinot Noir\", \"For roasted pork, the earthy qualities and medium body of Pinot Noir enhance the meat without overwhelming its more subtle characteristics.\")\n",
    "    ],\n",
    "    \"lamb\": [\n",
    "        (\"Bordeaux Blend\", \"The structured tannins and complex fruit profile of Bordeaux blends stand up to lamb's distinctive flavor, creating a classic pairing.\"),\n",
    "        (\"Rioja\", \"The balanced oak influence and savory qualities of Rioja complement the gamey aspects of lamb, particularly with herb-crusted preparations.\"),\n",
    "        (\"Chianti\", \"The bright acidity and cherry notes of Chianti cut through lamb's richness while its earthy undertones match the meat's flavor intensity.\")\n",
    "    ],\n",
    "    \"game\": [\n",
    "        (\"Barolo\", \"The powerful structure and distinctive flavor profile of Barolo can match the intense, complex flavors of game meats like venison.\"),\n",
    "        (\"Syrah\", \"The black pepper notes and bold fruit in Syrah complement the strong flavors in game meats, enhancing their savory qualities.\"),\n",
    "        (\"Châteauneuf-du-Pape\", \"The rich, spicy character of Châteauneuf-du-Pape pairs wonderfully with the distinctive flavors of game birds and meats.\")\n",
    "    ],\n",
    "    \"vegetarian\": [\n",
    "        (\"Grüner Veltliner\", \"The bright, peppery qualities of Grüner Veltliner complement vegetable-forward dishes, particularly those featuring green vegetables.\"),\n",
    "        (\"Rosé\", \"The versatility of dry rosé makes it an excellent match for varied vegetarian flavors, offering fruit notes without overwhelming subtle vegetable components.\"),\n",
    "        (\"Beaujolais\", \"The light body and vibrant fruit in Beaujolais make it adaptable to many vegetarian dishes, particularly those with earthy components like mushrooms.\")\n",
    "    ],\n",
    "    \"spicy\": [\n",
    "        (\"Gewürztraminer\", \"The slight sweetness and lychee notes of Gewürztraminer provide a counterbalance to spicy heat while its aromatics complement exotic spices.\"),\n",
    "        (\"Riesling\", \"Off-dry Riesling's combination of sweetness and acidity makes it perfect for spicy dishes, offering cooling relief from heat.\"),\n",
    "        (\"Moscato d'Asti\", \"The light sweetness and gentle bubbles in Moscato provide a refreshing contrast to spicy food, tempering the heat without competing with complex flavors.\")\n",
    "    ],\n",
    "    \"dessert\": [\n",
    "        (\"Port\", \"The rich, concentrated sweetness of Port stands up to chocolate desserts while adding complementary dried fruit and spice notes.\"),\n",
    "        (\"Sauternes\", \"The honeyed richness of Sauternes pairs perfectly with fruit-based desserts, especially those featuring stone fruits or caramel.\"),\n",
    "        (\"Moscato d'Asti\", \"The light, sweet, floral character of Moscato complements delicate desserts and fruit-based treats with its gentle effervescence.\")\n",
    "    ],\n",
    "    \"cheese\": [\n",
    "        (\"Port\", \"The sweetness and complexity of Port create a classic contrast with blue cheeses, while complementing the umami qualities.\"),\n",
    "        (\"Champagne\", \"The high acidity and bubbles of Champagne cut through the richness of soft cheeses like Brie,"
   ],
   "id": "79c6da734ce48975"
  }
 ],
 "metadata": {
  "kernelspec": {
   "display_name": "Python 3",
   "language": "python",
   "name": "python3"
  },
  "language_info": {
   "codemirror_mode": {
    "name": "ipython",
    "version": 2
   },
   "file_extension": ".py",
   "mimetype": "text/x-python",
   "name": "python",
   "nbconvert_exporter": "python",
   "pygments_lexer": "ipython2",
   "version": "2.7.6"
  }
 },
 "nbformat": 4,
 "nbformat_minor": 5
}
